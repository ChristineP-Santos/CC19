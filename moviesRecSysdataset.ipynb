{
  "nbformat": 4,
  "nbformat_minor": 0,
  "metadata": {
    "colab": {
      "provenance": []
    },
    "kernelspec": {
      "name": "python3",
      "display_name": "Python 3"
    },
    "language_info": {
      "name": "python"
    }
  },
  "cells": [
    {
      "cell_type": "code",
      "execution_count": null,
      "metadata": {
        "id": "zVLHPeHFF6UK"
      },
      "outputs": [],
      "source": [
        "# Import Necessary Libraries\n",
        "import pandas as pd # Imports the pandas library for data manipulation, aliased as 'pd'\n",
        "import numpy as np # Imports the numpy library for numerical computations, aliased as 'np'\n",
        "from sklearn.preprocessing import MinMaxScaler, LabelEncoder, OneHotEncoder # Imports specific preprocessing tools from scikit-learn\n",
        "from sklearn.decomposition import PCA # Imports Principal Component Analysis for dimensionality reduction\n",
        "from sklearn.feature_selection import SelectKBest, f_classif # Imports feature selection tools\n",
        "from sklearn.impute import SimpleImputer # Imports the SimpleImputer class for handling missing values\n",
        "from scipy.stats import chi2_contingency, f_oneway # Imports statistical tests\n",
        "from scipy.stats import pearsonr # Imports the Pearson correlation function\n",
        "import matplotlib.pyplot as plt\n",
        "import seaborn as sns"
      ]
    },
    {
      "cell_type": "code",
      "source": [
        "df = pd.read_csv('MovieRecSys.csv', encoding='latin-1') # Reads the CSV file into a pandas DataFrame"
      ],
      "metadata": {
        "id": "ifqabL7nGBCd"
      },
      "execution_count": null,
      "outputs": []
    },
    {
      "cell_type": "code",
      "source": [
        "print(df)"
      ],
      "metadata": {
        "colab": {
          "base_uri": "https://localhost:8080/"
        },
        "id": "hcl0tQK_GP1J",
        "outputId": "6f1c92a4-0047-42f7-c8aa-656e38b7b45f"
      },
      "execution_count": null,
      "outputs": [
        {
          "output_type": "stream",
          "name": "stdout",
          "text": [
            "      ï»¿User_ID                                Title Name Language Released  \\\n",
            "0              2      A Shaun the Sheep Movie: Farmageddon  English     2020   \n",
            "1             13                           Black Hawk Down  English     2001   \n",
            "2             20                                    Canvas  English     2020   \n",
            "3             12  Captain Underpants: The First Epic Movie      NaN     2017   \n",
            "4             13                            Ella Enchanted      NaN     2004   \n",
            "...          ...                                       ...      ...      ...   \n",
            "4443          17                           Mae Martin: SAP  English     2023   \n",
            "4444          15       Michela Giraud: The Truth, I Swear!  Italian     2022   \n",
            "4445           9                              The Disciple  Marathi     2020   \n",
            "4446          23                             The Privilege   German     2022   \n",
            "4447          12               Barbie & the Diamond Castle  English     2008   \n",
            "\n",
            "     Age_Rating  IMDb  \n",
            "0             G  9/10  \n",
            "1             G  8/10  \n",
            "2             G  9/10  \n",
            "3             G  9/10  \n",
            "4             G  7/10  \n",
            "...         ...   ...  \n",
            "4443        NaN  8/10  \n",
            "4444        NaN  9/10  \n",
            "4445        NaN  7/10  \n",
            "4446        NaN  4/10  \n",
            "4447      TV-Y7  7/10  \n",
            "\n",
            "[4448 rows x 6 columns]\n"
          ]
        }
      ]
    },
    {
      "cell_type": "code",
      "source": [
        "# Convert 'IMDb' column to numerical and remove '/10'\n",
        "df['IMDb'] = df['IMDb'].astype(str).str.rstrip('/10')  # Convert to string first\n",
        "df['IMDb'] = pd.to_numeric(df['IMDb'], errors='coerce')\n",
        "\n",
        "print(df)"
      ],
      "metadata": {
        "colab": {
          "base_uri": "https://localhost:8080/"
        },
        "id": "-EtqvxgrGSqu",
        "outputId": "3a395b4b-e3f0-4a2f-94b8-5444386b8203"
      },
      "execution_count": null,
      "outputs": [
        {
          "output_type": "stream",
          "name": "stdout",
          "text": [
            "      ï»¿User_ID                                Title Name Language Released  \\\n",
            "0              2      A Shaun the Sheep Movie: Farmageddon  English     2020   \n",
            "1             13                           Black Hawk Down  English     2001   \n",
            "2             20                                    Canvas  English     2020   \n",
            "3             12  Captain Underpants: The First Epic Movie      NaN     2017   \n",
            "4             13                            Ella Enchanted      NaN     2004   \n",
            "...          ...                                       ...      ...      ...   \n",
            "4443          17                           Mae Martin: SAP  English     2023   \n",
            "4444          15       Michela Giraud: The Truth, I Swear!  Italian     2022   \n",
            "4445           9                              The Disciple  Marathi     2020   \n",
            "4446          23                             The Privilege   German     2022   \n",
            "4447          12               Barbie & the Diamond Castle  English     2008   \n",
            "\n",
            "     Age_Rating  IMDb  \n",
            "0             G     9  \n",
            "1             G     8  \n",
            "2             G     9  \n",
            "3             G     9  \n",
            "4             G     7  \n",
            "...         ...   ...  \n",
            "4443        NaN     8  \n",
            "4444        NaN     9  \n",
            "4445        NaN     7  \n",
            "4446        NaN     4  \n",
            "4447      TV-Y7     7  \n",
            "\n",
            "[4448 rows x 6 columns]\n"
          ]
        }
      ]
    },
    {
      "cell_type": "code",
      "source": [
        "# Check for missing values before removing unnamed columns\n",
        "print(\"Missing values before removing unnamed columns:\\n\", df.isnull().sum())"
      ],
      "metadata": {
        "colab": {
          "base_uri": "https://localhost:8080/"
        },
        "id": "AjSFyUA0GVfc",
        "outputId": "52e6f3cb-ea6f-4ef4-b020-da32f17c7f36"
      },
      "execution_count": null,
      "outputs": [
        {
          "output_type": "stream",
          "name": "stdout",
          "text": [
            "Missing values before removing unnamed columns:\n",
            " ï»¿User_ID     0\n",
            "Title Name     0\n",
            "Language      34\n",
            "Released      35\n",
            "Age_Rating     7\n",
            "IMDb           0\n",
            "dtype: int64\n"
          ]
        }
      ]
    },
    {
      "cell_type": "code",
      "source": [
        "# Count the number of unique languages\n",
        "num_languages = df['Language'].nunique()\n",
        "# Print the result\n",
        "print(f\"There are {num_languages} unique languages in the dataset.\")"
      ],
      "metadata": {
        "colab": {
          "base_uri": "https://localhost:8080/"
        },
        "id": "afPy64YoGxk9",
        "outputId": "5796b026-c954-4444-9b18-3070aee937da"
      },
      "execution_count": null,
      "outputs": [
        {
          "output_type": "stream",
          "name": "stdout",
          "text": [
            "There are 74 unique languages in the dataset.\n"
          ]
        }
      ]
    },
    {
      "cell_type": "code",
      "source": [
        "# Get unique languages\n",
        "unique_languages = df['Language'].unique() # Gets the unique languages in the 'Language' column\n",
        "# Print the unique languages\n",
        "print(\"Unique Languages in the Dataset:\")"
      ],
      "metadata": {
        "colab": {
          "base_uri": "https://localhost:8080/"
        },
        "id": "oFeRAZKVG4Pd",
        "outputId": "7af9ba69-a0de-4144-9b22-2ef3a5fdedb9"
      },
      "execution_count": null,
      "outputs": [
        {
          "output_type": "stream",
          "name": "stdout",
          "text": [
            "Unique Languages in the Dataset:\n"
          ]
        }
      ]
    },
    {
      "cell_type": "code",
      "source": [
        "# Prints a header\n",
        "for language in unique_languages: # Iterates through each unique language\n",
        "    print(language)# Prints the current language"
      ],
      "metadata": {
        "colab": {
          "base_uri": "https://localhost:8080/"
        },
        "id": "20M3JdtrG_Zx",
        "outputId": "9ea2f6c5-428f-44ac-8092-ebc1ac8f6c15"
      },
      "execution_count": null,
      "outputs": [
        {
          "output_type": "stream",
          "name": "stdout",
          "text": [
            "English\n",
            "nan\n",
            "Filipino\n",
            "Tamil\n",
            "Japanese\n",
            "Englihs\n",
            "Spanish\n",
            "Yiddish\n",
            "Hindi\n",
            "French\n",
            "Russian\n",
            "Italian\n",
            "Mandarin\n",
            "Dari\n",
            "Norwegian\n",
            "German\n",
            "Chinese\n",
            "Persian\n",
            "Arabic\n",
            "Portuguese\n",
            "Korean\n",
            "Polish\n",
            "Indonesian\n",
            "Marathi\n",
            "Turkish\n",
            "Cantonese\n",
            "Malayalam\n",
            "Thai\n",
            "Telugu\n",
            "Urdu\n",
            "Icelandic\n",
            "Telegu\n",
            "Tamil / Hindi / Telegu / Malayalam / Kannada\n",
            "Wolof\n",
            "Swahili\n",
            "Punjabi\n",
            "Zulu\n",
            "Bengali\n",
            "Tamil & Hindi\n",
            "Dutch\n",
            "Malay\n",
            "Kannada\n",
            "Vietnamese\n",
            "Yoruba\n",
            "Hebrew\n",
            "Swedish\n",
            "Tamil, Telugu, Malayalam, Kannada\n",
            "Malayalam, Hindi, Tamil, Telugu, Kannada\n",
            "Tagalog\n",
            "Comedy\n",
            "Bangla\n",
            "Xhosa\n",
            "Tamil & Telegu\n",
            "Ibo\n",
            "Danish\n",
            "Tamil, Hindi, Kannada, Malayalam, Telugu\n",
            "Ijaw\n",
            "Finnish\n",
            "Min Nan\n",
            "Afrikaans\n",
            "Khmer\n",
            "Navajo\n",
            "TV-MA\n",
            "Hungarian\n",
            "tt7866320\n",
            "Romanian\n",
            "Catalan\n",
            "Telugu, Tamil, Kannada\n",
            "Ukranian\n",
            "Albanian\n",
            "Swiss German\n",
            "Brazilian Portuguese\n",
            "87 mins\n",
            "Georgian\n",
            "Pashtu\n"
          ]
        }
      ]
    },
    {
      "cell_type": "code",
      "source": [
        "# Find rows with empty 'Language'\n",
        "empty_language_rows = df[df['Language'].isnull()]\n",
        "# Print the empty rows\n",
        "print(\"Rows with empty 'Language':\") # Prints a header\n",
        "print(empty_language_rows) # Prints the rows with missing 'Language' values"
      ],
      "metadata": {
        "colab": {
          "base_uri": "https://localhost:8080/"
        },
        "id": "0al3EU2hHDfs",
        "outputId": "c3d42468-83dc-48dd-a7d9-8cf90b8bbdaa"
      },
      "execution_count": null,
      "outputs": [
        {
          "output_type": "stream",
          "name": "stdout",
          "text": [
            "Rows with empty 'Language':\n",
            "      ï»¿User_ID                                 Title Name Language Released  \\\n",
            "3             12   Captain Underpants: The First Epic Movie      NaN     2017   \n",
            "4             13                             Ella Enchanted      NaN     2004   \n",
            "22            12                                    Dheepan      NaN     2015   \n",
            "23            30                 Nowitzki: The Perfect Shot      NaN     2014   \n",
            "24            17                   Smurfs: The Lost Village      NaN     2017   \n",
            "25            23                              The Boss Baby      NaN     2017   \n",
            "26            12                                   The Wave      NaN     2015   \n",
            "27            14                                       Veve      NaN     2014   \n",
            "79            11                              Kung Fu Panda      NaN     2008   \n",
            "154            3                        The Prince of Egypt      NaN     1998   \n",
            "166           31                                     Trolls      NaN     2016   \n",
            "214           30                                Chicken Run      NaN     2000   \n",
            "353            3                               The Babadook      NaN     2014   \n",
            "374           22                        The Look of Silence      NaN     2014   \n",
            "382           23                             The Negotiator      NaN     1998   \n",
            "484           24                                Backcountry      NaN     2014   \n",
            "500           30  Blue Mountain State: The Rise of Thadland      NaN     2016   \n",
            "505           27                             Brotherly Love      NaN     2015   \n",
            "512            8                                      Clown      NaN     2014   \n",
            "717           29                                  Tangerine      NaN     2015   \n",
            "764           28                         The Little Rascals      NaN     1994   \n",
            "1587           4                                       Sing      NaN     2016   \n",
            "1672          31                            The Emoji Movie      NaN     2017   \n",
            "1943          10                                      Viral      NaN     2016   \n",
            "1976          15                               7 Khoon Maaf      NaN     2011   \n",
            "1978           3                                    7 aÃ±os      NaN     2016   \n",
            "2179           6                            Black Is Beltza      NaN     2018   \n",
            "2601          21                             Hands of Stone      NaN     2016   \n",
            "2939          16                         Making The Witcher      NaN     2020   \n",
            "3552          18                        The Lady in Dignity      NaN     2017   \n",
            "3669           5                                The Wailing      NaN     2016   \n",
            "3954          29                                      Clash      NaN     2016   \n",
            "4136          12                                     Serena      NaN     2014   \n",
            "4387          20                   Kubo and the Two Strings      NaN     2016   \n",
            "\n",
            "     Age_Rating  IMDb  \n",
            "3             G     9  \n",
            "4             G     7  \n",
            "22           NR     7  \n",
            "23           NR     6  \n",
            "24           NR     7  \n",
            "25           NR     9  \n",
            "26           NR     7  \n",
            "27           NR     9  \n",
            "79           PG     2  \n",
            "154          PG     8  \n",
            "166          PG     7  \n",
            "214       PG-13     9  \n",
            "353       PG-13     9  \n",
            "374       PG-13     6  \n",
            "382       PG-13     8  \n",
            "484           R     4  \n",
            "500           R     6  \n",
            "505           R     5  \n",
            "512           R     9  \n",
            "717           R     8  \n",
            "764           R     9  \n",
            "1587      TV-14     3  \n",
            "1672      TV-14     7  \n",
            "1943       TV-G     3  \n",
            "1976      TV-MA     8  \n",
            "1978      TV-MA     2  \n",
            "2179      TV-MA     9  \n",
            "2601      TV-MA     9  \n",
            "2939      TV-MA     4  \n",
            "3552      TV-MA     4  \n",
            "3669      TV-MA     6  \n",
            "3954      TV-PG     9  \n",
            "4136      TV-PG     8  \n",
            "4387      TV-Y7     8  \n"
          ]
        }
      ]
    },
    {
      "cell_type": "code",
      "source": [
        "# Create a dictionary mapping movie titles to languages\n",
        "movie_language_mapping = {\n",
        "    '7 Khoon Maaf': 'Hindi',\n",
        "    '7 años': 'Spanish',\n",
        "    'Backcountry': 'English',\n",
        "    'Black Is Beltza': 'Spanish',\n",
        "    'Blue Mountain State: The Rise of Thadland': 'English',\n",
        "    'Brotherly Love': 'English',\n",
        "    'Captain Underpants: The First Epic Movie': 'English',\n",
        "    'Chicken Run': 'English',\n",
        "    'Clash': 'Arabic',\n",
        "    'Clown': 'English',\n",
        "    'Dheepan': 'Tamil',\n",
        "    'Ella Enchanted': 'English',\n",
        "    'Hands of Stone': 'English',\n",
        "    'Kubo and the Two Strings': 'English',\n",
        "    'Kung Fu Panda': 'English',\n",
        "    'Making The Witcher': 'English',\n",
        "    'Nowitzki: The Perfect Shot': 'English',\n",
        "    'Serena': 'English',\n",
        "    'Sing': 'English',\n",
        "    'Smurfs: The Lost Village': 'English',\n",
        "    'Tangerine': 'English',\n",
        "    'The Babadook': 'English',\n",
        "    'The Boss Baby': 'English',\n",
        "    'The Emoji Movie': 'English',\n",
        "    'The Lady in Dignity': 'Korean',\n",
        "    'The Little Rascals': 'English',\n",
        "    'The Look of Silence': 'Indonesian',\n",
        "    'The Negotiator': 'English',\n",
        "    'The Prince of Egypt': 'English',\n",
        "    'The Wailing': 'Korean',\n",
        "    'The Wave': 'Norwegian',\n",
        "    'Trolls': 'English',\n",
        "    'Veve': 'English',\n",
        "    'Viral': 'English'\n",
        "}"
      ],
      "metadata": {
        "id": "Vc3ZeRLoHG1F"
      },
      "execution_count": null,
      "outputs": []
    },
    {
      "cell_type": "code",
      "source": [
        "# Impute the languages using the mapping\n",
        "for movie, language in movie_language_mapping.items(): # Iterates through the movie-language mapping\n",
        "    df.loc[df['Title Name'] == movie, 'Language'] = language # Updates the 'Language' column for matching movie titles"
      ],
      "metadata": {
        "id": "DAnYdlHGHSRL"
      },
      "execution_count": null,
      "outputs": []
    },
    {
      "cell_type": "code",
      "source": [
        "# Print the updated DataFrame to verify the changes\n",
        "print(df[df['Title Name'].isin(movie_language_mapping.keys())]) # Prints rows where 'Title Name' is in the mapping keys"
      ],
      "metadata": {
        "colab": {
          "base_uri": "https://localhost:8080/"
        },
        "id": "3IdCcwtLHVAp",
        "outputId": "f1e04013-304f-4ffb-b748-5dcdf5a6ead8"
      },
      "execution_count": null,
      "outputs": [
        {
          "output_type": "stream",
          "name": "stdout",
          "text": [
            "      ï»¿User_ID                                 Title Name    Language  \\\n",
            "3             12   Captain Underpants: The First Epic Movie     English   \n",
            "4             13                             Ella Enchanted     English   \n",
            "22            12                                    Dheepan       Tamil   \n",
            "23            30                 Nowitzki: The Perfect Shot     English   \n",
            "24            17                   Smurfs: The Lost Village     English   \n",
            "25            23                              The Boss Baby     English   \n",
            "26            12                                   The Wave   Norwegian   \n",
            "27            14                                       Veve     English   \n",
            "79            11                              Kung Fu Panda     English   \n",
            "154            3                        The Prince of Egypt     English   \n",
            "166           31                                     Trolls     English   \n",
            "214           30                                Chicken Run     English   \n",
            "353            3                               The Babadook     English   \n",
            "374           22                        The Look of Silence  Indonesian   \n",
            "382           23                             The Negotiator     English   \n",
            "484           24                                Backcountry     English   \n",
            "500           30  Blue Mountain State: The Rise of Thadland     English   \n",
            "505           27                             Brotherly Love     English   \n",
            "512            8                                      Clown     English   \n",
            "717           29                                  Tangerine     English   \n",
            "764           28                         The Little Rascals     English   \n",
            "1587           4                                       Sing     English   \n",
            "1672          31                            The Emoji Movie     English   \n",
            "1943          10                                      Viral     English   \n",
            "1976          15                               7 Khoon Maaf       Hindi   \n",
            "2179           6                            Black Is Beltza     Spanish   \n",
            "2601          21                             Hands of Stone     English   \n",
            "2939          16                         Making The Witcher     English   \n",
            "3552          18                        The Lady in Dignity      Korean   \n",
            "3669           5                                The Wailing      Korean   \n",
            "3954          29                                      Clash      Arabic   \n",
            "4136          12                                     Serena     English   \n",
            "4387          20                   Kubo and the Two Strings     English   \n",
            "\n",
            "     Released Age_Rating  IMDb  \n",
            "3        2017          G     9  \n",
            "4        2004          G     7  \n",
            "22       2015         NR     7  \n",
            "23       2014         NR     6  \n",
            "24       2017         NR     7  \n",
            "25       2017         NR     9  \n",
            "26       2015         NR     7  \n",
            "27       2014         NR     9  \n",
            "79       2008         PG     2  \n",
            "154      1998         PG     8  \n",
            "166      2016         PG     7  \n",
            "214      2000      PG-13     9  \n",
            "353      2014      PG-13     9  \n",
            "374      2014      PG-13     6  \n",
            "382      1998      PG-13     8  \n",
            "484      2014          R     4  \n",
            "500      2016          R     6  \n",
            "505      2015          R     5  \n",
            "512      2014          R     9  \n",
            "717      2015          R     8  \n",
            "764      1994          R     9  \n",
            "1587     2016      TV-14     3  \n",
            "1672     2017      TV-14     7  \n",
            "1943     2016       TV-G     3  \n",
            "1976     2011      TV-MA     8  \n",
            "2179     2018      TV-MA     9  \n",
            "2601     2016      TV-MA     9  \n",
            "2939     2020      TV-MA     4  \n",
            "3552     2017      TV-MA     4  \n",
            "3669     2016      TV-MA     6  \n",
            "3954     2016      TV-PG     9  \n",
            "4136     2014      TV-PG     8  \n",
            "4387     2016      TV-Y7     8  \n"
          ]
        }
      ]
    },
    {
      "cell_type": "code",
      "source": [
        "# Fill missing 'Language' values with 'English'\n",
        "df['Language'].fillna('English', inplace=True)"
      ],
      "metadata": {
        "id": "StyC8bpfHYpW"
      },
      "execution_count": null,
      "outputs": []
    },
    {
      "cell_type": "code",
      "source": [
        "# Check for missing values in the entire DataFrame\n",
        "missing_values = df.isnull().sum()\n",
        "# Print the results\n",
        "print(\"Missing values in the DataFrame:\\n\", missing_values)"
      ],
      "metadata": {
        "colab": {
          "base_uri": "https://localhost:8080/"
        },
        "id": "lh7xV17FHequ",
        "outputId": "ac480bc8-f809-47cf-f316-79d4aeffc293"
      },
      "execution_count": null,
      "outputs": [
        {
          "output_type": "stream",
          "name": "stdout",
          "text": [
            "Missing values in the DataFrame:\n",
            " ï»¿User_ID     0\n",
            "Title Name     0\n",
            "Language       0\n",
            "Released      35\n",
            "Age_Rating     7\n",
            "IMDb           0\n",
            "dtype: int64\n"
          ]
        }
      ]
    },
    {
      "cell_type": "code",
      "source": [
        "# Check for missing values in the 'Released' column\n",
        "missing_released = df['Released'].isnull().sum()\n",
        "# Print the result\n",
        "print(f\"Number of missing values in 'Released': {missing_released}\")"
      ],
      "metadata": {
        "colab": {
          "base_uri": "https://localhost:8080/"
        },
        "id": "sciFHWGRHg6F",
        "outputId": "82edb0d7-a86b-4d4a-c57c-cfa5ebbad973"
      },
      "execution_count": null,
      "outputs": [
        {
          "output_type": "stream",
          "name": "stdout",
          "text": [
            "Number of missing values in 'Released': 35\n"
          ]
        }
      ]
    },
    {
      "cell_type": "code",
      "source": [
        "# Get the rows with missing values in 'Released'\n",
        "missing_released_rows = df[df['Released'].isnull()]\n",
        "# Print the rows\n",
        "print(\"Rows with missing 'Released' values:\") # Prints a header\n",
        "print(missing_released_rows) # Prints the rows with missing 'Released' values"
      ],
      "metadata": {
        "colab": {
          "base_uri": "https://localhost:8080/"
        },
        "id": "tuRh4IBxHp7M",
        "outputId": "7b9f5659-ca74-4a9d-a19e-e600dbd8cc5c"
      },
      "execution_count": null,
      "outputs": [
        {
          "output_type": "stream",
          "name": "stdout",
          "text": [
            "Rows with missing 'Released' values:\n",
            "      ï»¿User_ID                                         Title Name  \\\n",
            "892            4                             About Love and Passion   \n",
            "910            3                                    All Eyes on Him   \n",
            "963           19                              Badrinath Ki Dulhania   \n",
            "1099           5                            Dusty Slay: Workin' Man   \n",
            "1225          31                                            Ijogbon   \n",
            "1257          24                           Jumping from High Places   \n",
            "1313          27                                            Leligar   \n",
            "1419           4                       My Brother is up on the Tree   \n",
            "1600          21                               Soldiers in the Camp   \n",
            "1744           3                     Three Widows Against The World   \n",
            "1756          13                                 To Love Is To Grow   \n",
            "1800           7                   Violet Evergarden: Recollections   \n",
            "1828           8                                       Wizzo School   \n",
            "1877          29                                El lÃ­mite infinito   \n",
            "1899           9  LiSA LiVE is Smile Always, Eve&Birth: The Birt...   \n",
            "1963           8                         30 for 30: Rand University   \n",
            "2028          17                       African Folktales Reimagined   \n",
            "2154           9                              Best of Stand-Up 2022   \n",
            "2163          21                              Bhola Shankar (Tamil)   \n",
            "2266           3                    Chief Daddy 2 - Going for Broke   \n",
            "2527          29                                  Friday Night Plan   \n",
            "2553           2        Gen Hoshino Concert Recollections 2015-2023   \n",
            "2703          14                                             Inkabi   \n",
            "2733          26                                        Jagun Jagun   \n",
            "2736          31                               Jakarta vs Everybody   \n",
            "2818           6                       Katt Williams: World War III   \n",
            "3071          11                           Neal Brennan: Crazy Good   \n",
            "3164           4                 Pete Holmes: I Am Not for Everyone   \n",
            "3882          14                                   30 for 30: The U   \n",
            "4034           5                            Kabuki Akadousuzunosuke   \n",
            "4225          22                    Wave of Cinema: 90's Generation   \n",
            "4255          17                                           Bebefinn   \n",
            "4278           1                  LOL Surprise! Winter Fashion Show   \n",
            "4308          13                 Spookley and the Christmas Kittens   \n",
            "4442          25                                   Lolo and the Kid   \n",
            "\n",
            "        Language Released Age_Rating  IMDb  \n",
            "892       Arabic      NaN      TV-14     3  \n",
            "910       Arabic      NaN      TV-14     6  \n",
            "963        Hindi      NaN      TV-14     7  \n",
            "1099     English      NaN      TV-14     9  \n",
            "1225      Yoruba      NaN      TV-14     8  \n",
            "1257     Italian      NaN      TV-14     5  \n",
            "1313      Arabic      NaN      TV-14     8  \n",
            "1419      Arabic      NaN      TV-14     9  \n",
            "1600      Arabic      NaN      TV-14     9  \n",
            "1744       Malay      NaN      TV-14     9  \n",
            "1756     Spanish      NaN      TV-14     5  \n",
            "1800    Japanese      NaN      TV-14     2  \n",
            "1828      Arabic      NaN      TV-14     7  \n",
            "1877     Spanish      NaN       TV-G     5  \n",
            "1899    Japanese      NaN       TV-G     8  \n",
            "1963     English      NaN      TV-MA     9  \n",
            "2028     English      NaN      TV-MA     6  \n",
            "2154     English      NaN      TV-MA     2  \n",
            "2163       Tamil      NaN      TV-MA     9  \n",
            "2266     English      NaN      TV-MA     5  \n",
            "2527       Hindi      NaN      TV-MA     7  \n",
            "2553    Japanese      NaN      TV-MA     3  \n",
            "2703     English      NaN      TV-MA     9  \n",
            "2733      Yoruba      NaN      TV-MA     5  \n",
            "2736  Indonesian      NaN      TV-MA     3  \n",
            "2818     English      NaN      TV-MA     7  \n",
            "3071     English      NaN      TV-MA     9  \n",
            "3164     English      NaN      TV-MA     4  \n",
            "3882     English      NaN      TV-PG     5  \n",
            "4034    Japanese      NaN      TV-PG     9  \n",
            "4225  Indonesian      NaN      TV-PG     3  \n",
            "4255     English      NaN       TV-Y     8  \n",
            "4278     English      NaN       TV-Y     3  \n",
            "4308     English      NaN       TV-Y     9  \n",
            "4442    Filipino      NaN        NaN     9  \n"
          ]
        }
      ]
    },
    {
      "cell_type": "code",
      "source": [
        "# Create a dictionary mapping movie titles to release years\n",
        "movie_release_mapping = {\n",
        "    '30 for 30: Rand University': 2014,\n",
        "    '30 for 30: The U': 2009,\n",
        "    'About Love and Passion': 2006,\n",
        "    'African Folktales Reimagined': 2023,\n",
        "    'All Eyes on Him': 2021,\n",
        "    'Badrinath Ki Dulhania': 2017,\n",
        "    'Bebefinn': 2022,\n",
        "    'Best of Stand-Up 2022': 2022,\n",
        "    'Bhola Shankar (Tamil)': 2023,\n",
        "    'Chief Daddy 2 - Going for Broke': 2022,\n",
        "    'El límite infinito': 2019,\n",
        "    'Friday Night Plan': 2023,\n",
        "    'Gen Hoshino Concert Recollections 2015-2023': 2023,\n",
        "    'Ijogbon': 2023,\n",
        "    'Inkabi': 2024,\n",
        "    'Jagun Jagun': 2023,\n",
        "    'Jakarta vs Everybody': 2021,\n",
        "    'Jumping from High Places': 2022,\n",
        "    'Kabuki Akadousuzunosuke': 2022,\n",
        "    'Katt Williams: World War III': 2022,\n",
        "    'LOL Surprise! Winter Fashion Show': 2022,\n",
        "    'Leligar': 2021,\n",
        "    'LiSA LiVE is Smile Always, Eve&Birth: The Birth at Nippon Budokab': 2022,\n",
        "    'Lolo and the Kid': 2024,\n",
        "    'My Brother is up on the Tree': 2023,\n",
        "    'Neal Brennan: Crazy Good': 2024,\n",
        "    'Pete Holmes: I Am Not for Everyone': 2023,\n",
        "    'Soldiers in the Camp': 2003,\n",
        "    'Spookley and the Christmas Kittens': 2019,\n",
        "    'Three Widows Against The World': 2022,\n",
        "}\n",
        "# Create a dictionary mapping movie titles to release years\n",
        "movie_release_mapping = {\n",
        "    '30 for 30: Rand University': 2014,\n",
        "    '30 for 30: The U': 2009,\n",
        "    'About Love and Passion': 2006,\n",
        "    'African Folktales Reimagined': 2023,\n",
        "    'All Eyes on Him': 2021,\n",
        "    'Badrinath Ki Dulhania': 2017,\n",
        "    'Bebefinn': 2022,\n",
        "    'Best of Stand-Up 2022': 2022,\n",
        "    'Bhola Shankar (Tamil)': 2023,\n",
        "    'Chief Daddy 2 - Going for Broke': 2022,\n",
        "    'El límite infinito': 2019,\n",
        "    'Friday Night Plan': 2023,\n",
        "    'Gen Hoshino Concert Recollections 2015-2023': 2023,\n",
        "    'Ijogbon': 2023,\n",
        "    'Inkabi': 2024,\n",
        "    'Jagun Jagun': 2023,\n",
        "    'Jakarta vs Everybody': 2021,\n",
        "    'Jumping from High Places': 2022,\n",
        "    'Kabuki Akadousuzunosuke': 2022,\n",
        "    'Katt Williams: World War III': 2022,\n",
        "    'LOL Surprise! Winter Fashion Show': 2022,\n",
        "    'Leligar': 2021,\n",
        "    'LiSA LiVE is Smile Always, Eve&Birth: The Birth at Nippon Budokab': 2022,\n",
        "    'Lolo and the Kid': 2024,\n",
        "    'My Brother is up on the Tree': 2023,\n",
        "    'Neal Brennan: Crazy Good': 2024,\n",
        "    'Pete Holmes: I Am Not for Everyone': 2023,\n",
        "    'Soldiers in the Camp': 2003,\n",
        "    'Spookley and the Christmas Kittens': 2019,\n",
        "    'Three Widows Against The World': 2022,\n",
        "    'To Love Is To Grow': 2023,\n",
        "    'Violet Evergarden: Recollections': 2020,\n",
        "    'Wave of Cinema: 90\\'s Generation': 2021, #Corrected this line\n",
        "    'Wizzo School': 2023\n",
        "}"
      ],
      "metadata": {
        "id": "musfVS8MH4I2"
      },
      "execution_count": null,
      "outputs": []
    },
    {
      "cell_type": "code",
      "source": [
        "# Impute the release years using the mapping\n",
        "for movie, release_year in movie_release_mapping.items(): # Iterates through the movie-release mapping\n",
        "  df.loc[df['Title Name'] == movie, 'Released'] = release_year # Updates the 'Released' column for matching movie titles"
      ],
      "metadata": {
        "id": "aWKfmgptH8w-"
      },
      "execution_count": null,
      "outputs": []
    },
    {
      "cell_type": "code",
      "source": [
        "# Print the updated DataFrame to verify the changes (optional)\n",
        "print(df[df['Title Name'].isin(movie_release_mapping.keys())]) # Prints rows where 'Title Name' is in the mapping keys"
      ],
      "metadata": {
        "colab": {
          "base_uri": "https://localhost:8080/"
        },
        "id": "eyj7C-VHIC8e",
        "outputId": "81c03b9d-666f-4518-f6dd-be6ef8b71a1c"
      },
      "execution_count": null,
      "outputs": [
        {
          "output_type": "stream",
          "name": "stdout",
          "text": [
            "      ï»¿User_ID                                   Title Name    Language  \\\n",
            "892            4                       About Love and Passion      Arabic   \n",
            "910            3                              All Eyes on Him      Arabic   \n",
            "963           19                        Badrinath Ki Dulhania       Hindi   \n",
            "1225          31                                      Ijogbon      Yoruba   \n",
            "1257          24                     Jumping from High Places     Italian   \n",
            "1313          27                                      Leligar      Arabic   \n",
            "1419           4                 My Brother is up on the Tree      Arabic   \n",
            "1600          21                         Soldiers in the Camp      Arabic   \n",
            "1744           3               Three Widows Against The World       Malay   \n",
            "1756          13                           To Love Is To Grow     Spanish   \n",
            "1800           7             Violet Evergarden: Recollections    Japanese   \n",
            "1828           8                                 Wizzo School      Arabic   \n",
            "1963           8                   30 for 30: Rand University     English   \n",
            "2028          17                 African Folktales Reimagined     English   \n",
            "2154           9                        Best of Stand-Up 2022     English   \n",
            "2163          21                        Bhola Shankar (Tamil)       Tamil   \n",
            "2266           3              Chief Daddy 2 - Going for Broke     English   \n",
            "2527          29                            Friday Night Plan       Hindi   \n",
            "2553           2  Gen Hoshino Concert Recollections 2015-2023    Japanese   \n",
            "2703          14                                       Inkabi     English   \n",
            "2733          26                                  Jagun Jagun      Yoruba   \n",
            "2736          31                         Jakarta vs Everybody  Indonesian   \n",
            "2818           6                 Katt Williams: World War III     English   \n",
            "3071          11                     Neal Brennan: Crazy Good     English   \n",
            "3164           4           Pete Holmes: I Am Not for Everyone     English   \n",
            "3882          14                             30 for 30: The U     English   \n",
            "4034           5                      Kabuki Akadousuzunosuke    Japanese   \n",
            "4225          22              Wave of Cinema: 90's Generation  Indonesian   \n",
            "4255          17                                     Bebefinn     English   \n",
            "4278           1            LOL Surprise! Winter Fashion Show     English   \n",
            "4308          13           Spookley and the Christmas Kittens     English   \n",
            "4442          25                             Lolo and the Kid    Filipino   \n",
            "\n",
            "     Released Age_Rating  IMDb  \n",
            "892      2006      TV-14     3  \n",
            "910      2021      TV-14     6  \n",
            "963      2017      TV-14     7  \n",
            "1225     2023      TV-14     8  \n",
            "1257     2022      TV-14     5  \n",
            "1313     2021      TV-14     8  \n",
            "1419     2023      TV-14     9  \n",
            "1600     2003      TV-14     9  \n",
            "1744     2022      TV-14     9  \n",
            "1756     2023      TV-14     5  \n",
            "1800     2020      TV-14     2  \n",
            "1828     2023      TV-14     7  \n",
            "1963     2014      TV-MA     9  \n",
            "2028     2023      TV-MA     6  \n",
            "2154     2022      TV-MA     2  \n",
            "2163     2023      TV-MA     9  \n",
            "2266     2022      TV-MA     5  \n",
            "2527     2023      TV-MA     7  \n",
            "2553     2023      TV-MA     3  \n",
            "2703     2024      TV-MA     9  \n",
            "2733     2023      TV-MA     5  \n",
            "2736     2021      TV-MA     3  \n",
            "2818     2022      TV-MA     7  \n",
            "3071     2024      TV-MA     9  \n",
            "3164     2023      TV-MA     4  \n",
            "3882     2009      TV-PG     5  \n",
            "4034     2022      TV-PG     9  \n",
            "4225     2021      TV-PG     3  \n",
            "4255     2022       TV-Y     8  \n",
            "4278     2022       TV-Y     3  \n",
            "4308     2019       TV-Y     9  \n",
            "4442     2024        NaN     9  \n"
          ]
        }
      ]
    },
    {
      "cell_type": "code",
      "source": [
        "# Check for missing values in the entire DataFrame\n",
        "missing_values = df.isnull().sum() # Calculates the number of missing values for each column\n",
        "# Print the results\n",
        "print(\"Missing values in the DataFrame:\\n\", missing_values) # Prints the missing value counts for each column"
      ],
      "metadata": {
        "colab": {
          "base_uri": "https://localhost:8080/"
        },
        "id": "0hkkCR5QIEdG",
        "outputId": "76fba685-9559-4404-b081-bf1f1e3679c2"
      },
      "execution_count": null,
      "outputs": [
        {
          "output_type": "stream",
          "name": "stdout",
          "text": [
            "Missing values in the DataFrame:\n",
            " ï»¿User_ID    0\n",
            "Title Name    0\n",
            "Language      0\n",
            "Released      3\n",
            "Age_Rating    7\n",
            "IMDb          0\n",
            "dtype: int64\n"
          ]
        }
      ]
    },
    {
      "cell_type": "code",
      "source": [
        "# Check for missing values in the 'Released' column\n",
        "missing_released = df['Released'].isnull().sum() # Calculates the number of missing values in the 'Released' column\n",
        "# Get the rows with missing values in 'Released'\n",
        "missing_released_rows = df[df['Released'].isnull()] # Filters the DataFrame for rows with missing 'Released' values\n",
        "# Print the rows\n",
        "print(\"Rows with missing 'Released' values:\") # Prints a header\n",
        "print(missing_released_rows) # Prints the rows with missing 'Released' values"
      ],
      "metadata": {
        "colab": {
          "base_uri": "https://localhost:8080/"
        },
        "id": "7NAXLpBVIKT8",
        "outputId": "3d8b16b7-f1f4-41d7-cea8-64d9b7870897"
      },
      "execution_count": null,
      "outputs": [
        {
          "output_type": "stream",
          "name": "stdout",
          "text": [
            "Rows with missing 'Released' values:\n",
            "      ï»¿User_ID                                         Title Name  Language  \\\n",
            "1099           5                            Dusty Slay: Workin' Man   English   \n",
            "1877          29                                El lÃ­mite infinito   Spanish   \n",
            "1899           9  LiSA LiVE is Smile Always, Eve&Birth: The Birt...  Japanese   \n",
            "\n",
            "     Released Age_Rating  IMDb  \n",
            "1099      NaN      TV-14     9  \n",
            "1877      NaN       TV-G     5  \n",
            "1899      NaN       TV-G     8  \n"
          ]
        }
      ]
    },
    {
      "cell_type": "code",
      "source": [
        "# Convert 'Released' to numeric and handle potential errors\n",
        "df['Released'] = pd.to_numeric(df['Released'], errors='coerce')\n",
        "\n",
        "# Calculate the median\n",
        "median_release_year = df['Released'].median()\n",
        "\n",
        "# Fill missing values with median\n",
        "df['Released'] = df['Released'].fillna(median_release_year)\n",
        "\n",
        "print(df)"
      ],
      "metadata": {
        "colab": {
          "base_uri": "https://localhost:8080/"
        },
        "id": "BpQrPyzIIUJP",
        "outputId": "b0636ac8-2d0f-41c4-f29b-56e7c2a9f55e"
      },
      "execution_count": null,
      "outputs": [
        {
          "output_type": "stream",
          "name": "stdout",
          "text": [
            "      ï»¿User_ID                                Title Name Language  Released  \\\n",
            "0              2      A Shaun the Sheep Movie: Farmageddon  English    2020.0   \n",
            "1             13                           Black Hawk Down  English    2001.0   \n",
            "2             20                                    Canvas  English    2020.0   \n",
            "3             12  Captain Underpants: The First Epic Movie  English    2017.0   \n",
            "4             13                            Ella Enchanted  English    2004.0   \n",
            "...          ...                                       ...      ...       ...   \n",
            "4443          17                           Mae Martin: SAP  English    2023.0   \n",
            "4444          15       Michela Giraud: The Truth, I Swear!  Italian    2022.0   \n",
            "4445           9                              The Disciple  Marathi    2020.0   \n",
            "4446          23                             The Privilege   German    2022.0   \n",
            "4447          12               Barbie & the Diamond Castle  English    2008.0   \n",
            "\n",
            "     Age_Rating  IMDb  \n",
            "0             G     9  \n",
            "1             G     8  \n",
            "2             G     9  \n",
            "3             G     9  \n",
            "4             G     7  \n",
            "...         ...   ...  \n",
            "4443        NaN     8  \n",
            "4444        NaN     9  \n",
            "4445        NaN     7  \n",
            "4446        NaN     4  \n",
            "4447      TV-Y7     7  \n",
            "\n",
            "[4448 rows x 6 columns]\n"
          ]
        }
      ]
    },
    {
      "cell_type": "code",
      "source": [
        "movie_release_mapping = {\n",
        "     'Dusty Slay: Workin/Man  English':2024,\n",
        "    'LiSA LiVE is Smile Always, Eve&Birth: The Birth at Nippon Budokab': 2022\n",
        "}"
      ],
      "metadata": {
        "id": "MT4c3eoAIXIB"
      },
      "execution_count": null,
      "outputs": []
    },
    {
      "cell_type": "code",
      "source": [
        "# Check for missing values in the entire DataFrame\n",
        "missing_values = df.isnull().sum() # Calculates the number of missing values for each column"
      ],
      "metadata": {
        "id": "BiiJa5inIdxz"
      },
      "execution_count": null,
      "outputs": []
    },
    {
      "cell_type": "code",
      "source": [
        "# Print the results\n",
        "print(\"Missing values in the DataFrame:\\n\", missing_values) # Prints the missing value counts for each column"
      ],
      "metadata": {
        "colab": {
          "base_uri": "https://localhost:8080/"
        },
        "id": "MOIgipRFIvmz",
        "outputId": "4cd6fbdd-4156-4ce3-e56a-afe3227bf9ad"
      },
      "execution_count": null,
      "outputs": [
        {
          "output_type": "stream",
          "name": "stdout",
          "text": [
            "Missing values in the DataFrame:\n",
            " ï»¿User_ID    0\n",
            "Title Name    0\n",
            "Language      0\n",
            "Released      0\n",
            "Age_Rating    7\n",
            "IMDb          0\n",
            "dtype: int64\n"
          ]
        }
      ]
    },
    {
      "cell_type": "code",
      "source": [
        "# Method 1: Fill missing values with the most frequent value (mode)\n",
        "most_frequent_age_rating = df['Age_Rating'].mode()[0]  # Get the most frequent age rating\n",
        "df['Age_Rating'].fillna(most_frequent_age_rating, inplace=True)\n",
        "\n",
        "# Verify the changes\n",
        "missing_age_ratings_after = df['Age_Rating'].isnull().sum()\n",
        "print(f\"Number of missing values in 'Age_Rating' after imputation: {missing_age_ratings_after}\")\n"
      ],
      "metadata": {
        "colab": {
          "base_uri": "https://localhost:8080/"
        },
        "id": "KXmswWRCIzDE",
        "outputId": "cc98ea88-27e9-418a-c201-7263abee866e"
      },
      "execution_count": null,
      "outputs": [
        {
          "output_type": "stream",
          "name": "stdout",
          "text": [
            "Number of missing values in 'Age_Rating' after imputation: 0\n"
          ]
        }
      ]
    },
    {
      "cell_type": "code",
      "source": [
        "# Check for missing values in the entire DataFrame\n",
        "missing_values = df.isnull().sum() # Calculates the number of missing values for each column\n",
        "# Print the results\n",
        "print(\"Missing values in the DataFrame:\\n\", missing_values) # Prints the missing value counts for each column"
      ],
      "metadata": {
        "colab": {
          "base_uri": "https://localhost:8080/"
        },
        "id": "273eO7OKJkiQ",
        "outputId": "3a72c02b-54d5-4d8a-e562-6777a44cf4b5"
      },
      "execution_count": null,
      "outputs": [
        {
          "output_type": "stream",
          "name": "stdout",
          "text": [
            "Missing values in the DataFrame:\n",
            " ï»¿User_ID    0\n",
            "Title Name    0\n",
            "Language      0\n",
            "Released      0\n",
            "Age_Rating    0\n",
            "IMDb          0\n",
            "dtype: int64\n"
          ]
        }
      ]
    },
    {
      "cell_type": "code",
      "source": [
        "# Define the rating mapping\n",
        "Age_Rating_mapping = { # Defines a dictionary to map rating labels to numerical values\n",
        "      'Not Rated' : 0 , 'R' : 1 ,'G' : 2 , 'NR' : 3 , 'PG' : 4 , 'NC-17' : 5 , 'PG-13' : 6 , 'TV-14' : 7 ,\n",
        "      'TV-G' : 8 ,'TV-MA' : 9 , 'TV-PG' : 10 , 'TV-Y' : 11 , 'TV-Y7' : 12}"
      ],
      "metadata": {
        "id": "W9cK2cFaJw-N"
      },
      "execution_count": null,
      "outputs": []
    },
    {
      "cell_type": "code",
      "source": [
        "# Apply the mapping to the 'Rating' column\n",
        "df['Age_Rating'] = df['Age_Rating'].map(Age_Rating_mapping) # Maps the 'Rating' column using the rating_mapping dictionary"
      ],
      "metadata": {
        "id": "A_HrvqcVKI-Z"
      },
      "execution_count": null,
      "outputs": []
    },
    {
      "cell_type": "code",
      "source": [
        "# Print the 'Rating' column\n",
        "print(\"\\nAge_Rating column:\") # Prints a header\n",
        "print(df['Age_Rating']) # Prints the 'Rating' column"
      ],
      "metadata": {
        "colab": {
          "base_uri": "https://localhost:8080/"
        },
        "id": "hTB4K8O1KUbP",
        "outputId": "efa1e41a-fbcc-4e02-c972-6d6b963a39a1"
      },
      "execution_count": null,
      "outputs": [
        {
          "output_type": "stream",
          "name": "stdout",
          "text": [
            "\n",
            "Age_Rating column:\n",
            "0        2\n",
            "1        2\n",
            "2        2\n",
            "3        2\n",
            "4        2\n",
            "        ..\n",
            "4443     9\n",
            "4444     9\n",
            "4445     9\n",
            "4446     9\n",
            "4447    12\n",
            "Name: Age_Rating, Length: 4448, dtype: int64\n"
          ]
        }
      ]
    },
    {
      "cell_type": "code",
      "source": [
        "print(df)"
      ],
      "metadata": {
        "colab": {
          "base_uri": "https://localhost:8080/"
        },
        "id": "V_LneaAXKdjy",
        "outputId": "03eec0b0-3f8d-42b5-e699-d4b7025985ef"
      },
      "execution_count": null,
      "outputs": [
        {
          "output_type": "stream",
          "name": "stdout",
          "text": [
            "      ï»¿User_ID                                Title Name Language  Released  \\\n",
            "0              2      A Shaun the Sheep Movie: Farmageddon  English    2020.0   \n",
            "1             13                           Black Hawk Down  English    2001.0   \n",
            "2             20                                    Canvas  English    2020.0   \n",
            "3             12  Captain Underpants: The First Epic Movie  English    2017.0   \n",
            "4             13                            Ella Enchanted  English    2004.0   \n",
            "...          ...                                       ...      ...       ...   \n",
            "4443          17                           Mae Martin: SAP  English    2023.0   \n",
            "4444          15       Michela Giraud: The Truth, I Swear!  Italian    2022.0   \n",
            "4445           9                              The Disciple  Marathi    2020.0   \n",
            "4446          23                             The Privilege   German    2022.0   \n",
            "4447          12               Barbie & the Diamond Castle  English    2008.0   \n",
            "\n",
            "      Age_Rating  IMDb  \n",
            "0              2     9  \n",
            "1              2     8  \n",
            "2              2     9  \n",
            "3              2     9  \n",
            "4              2     7  \n",
            "...          ...   ...  \n",
            "4443           9     8  \n",
            "4444           9     9  \n",
            "4445           9     7  \n",
            "4446           9     4  \n",
            "4447          12     7  \n",
            "\n",
            "[4448 rows x 6 columns]\n"
          ]
        }
      ]
    },
    {
      "cell_type": "code",
      "source": [
        "# Calculate the difference between the current median and the desired median (2021)\n",
        "median_diff = 2021 - df['Released'].median()"
      ],
      "metadata": {
        "id": "8AzYnkE7P1KD"
      },
      "execution_count": null,
      "outputs": []
    },
    {
      "cell_type": "code",
      "source": [
        "# Adjust the 'Released' column by adding the difference\n",
        "df['Released'] = df['Released'] + median_diff"
      ],
      "metadata": {
        "id": "0p1UZmUnP3-S"
      },
      "execution_count": null,
      "outputs": []
    },
    {
      "cell_type": "code",
      "source": [
        "for column in ['Released', 'IMDb']: # Iterates through 'Released' and 'IMDb' columns\n",
        "# Convert the column to numeric, coercing errors to NaN\n",
        "  df[column] = pd.to_numeric(df[column], errors='coerce') # Converts the column to numeric type"
      ],
      "metadata": {
        "id": "EEw9ShvRRVBS"
      },
      "execution_count": null,
      "outputs": []
    },
    {
      "cell_type": "code",
      "source": [
        " # Calculate quartiles and IQR\n",
        "Q1 = df[column].quantile(0.25)\n",
        "Q3 = df[column].quantile(0.75)\n",
        "IQR = Q3 - Q1"
      ],
      "metadata": {
        "id": "y5K-35yHSV4_"
      },
      "execution_count": null,
      "outputs": []
    },
    {
      "cell_type": "code",
      "source": [
        "# Calculate lower and upper bounds\n",
        "lower_bound = Q1 - 1.5 * IQR\n",
        "upper_bound = Q3 + 1.5 * IQR"
      ],
      "metadata": {
        "id": "sJq3tcJXQIxH"
      },
      "execution_count": null,
      "outputs": []
    },
    {
      "cell_type": "code",
      "source": [
        "  # Cap outliers\n",
        "df[column] = np.clip(df[column], lower_bound, upper_bound)"
      ],
      "metadata": {
        "id": "JJdmrDjhQpNI"
      },
      "execution_count": null,
      "outputs": []
    },
    {
      "cell_type": "code",
      "source": [
        " # Optionally, print information about outliers\n",
        "outliers = df[(df[column] == lower_bound) | (df[column] == upper_bound)]\n",
        "print(f\"\\nOutliers in {column}:\")\n",
        "print(outliers)"
      ],
      "metadata": {
        "colab": {
          "base_uri": "https://localhost:8080/"
        },
        "id": "cgGBjgR8Vasp",
        "outputId": "f6579785-de5b-4cb7-fc08-f4c9cabcd7a8"
      },
      "execution_count": null,
      "outputs": [
        {
          "output_type": "stream",
          "name": "stdout",
          "text": [
            "\n",
            "Outliers in IMDb:\n",
            "Empty DataFrame\n",
            "Columns: [ï»¿User_ID, Title Name, Language, Released, Age_Rating, IMDb]\n",
            "Index: []\n"
          ]
        }
      ]
    },
    {
      "cell_type": "code",
      "source": [
        "# Create boxplots for 'Released' and 'IMDb'\n",
        "for column in ['Released', 'IMDb']:\n",
        "    plt.figure(figsize=(8, 6))  # Adjust figure size as needed\n",
        "    sns.boxplot(x=df[column])\n",
        "    plt.title(f'Boxplot of {column}')\n",
        "    plt.show()"
      ],
      "metadata": {
        "colab": {
          "base_uri": "https://localhost:8080/",
          "height": 1000
        },
        "id": "zFWB74PZQr8N",
        "outputId": "7efbdcbd-b7d7-4b4c-d426-711cf2615b3a"
      },
      "execution_count": null,
      "outputs": [
        {
          "output_type": "display_data",
          "data": {
            "text/plain": [
              "<Figure size 800x600 with 1 Axes>"
            ],
            "image/png": "[encoded data removed]"
          },
          "metadata": {}
        },
        {
          "output_type": "display_data",
          "data": {
            "text/plain": [
              "<Figure size 800x600 with 1 Axes>"
            ],
            "image/png": "[encoded data removed]"
          },
          "metadata": {}
        }
      ]
    },
    {
      "cell_type": "code",
      "source": [
        "print(df)"
      ],
      "metadata": {
        "colab": {
          "base_uri": "https://localhost:8080/"
        },
        "id": "Io2NB-f-Rwvm",
        "outputId": "229987df-4d77-49ac-de49-97bb48fedfcf"
      },
      "execution_count": null,
      "outputs": [
        {
          "output_type": "stream",
          "name": "stdout",
          "text": [
            "      ï»¿User_ID                                Title Name Language  Released  \\\n",
            "0              2      A Shaun the Sheep Movie: Farmageddon  English    2021.0   \n",
            "1             13                           Black Hawk Down  English    2002.0   \n",
            "2             20                                    Canvas  English    2021.0   \n",
            "3             12  Captain Underpants: The First Epic Movie  English    2018.0   \n",
            "4             13                            Ella Enchanted  English    2005.0   \n",
            "...          ...                                       ...      ...       ...   \n",
            "4443          17                           Mae Martin: SAP  English    2024.0   \n",
            "4444          15       Michela Giraud: The Truth, I Swear!  Italian    2023.0   \n",
            "4445           9                              The Disciple  Marathi    2021.0   \n",
            "4446          23                             The Privilege   German    2023.0   \n",
            "4447          12               Barbie & the Diamond Castle  English    2009.0   \n",
            "\n",
            "      Age_Rating  IMDb  \n",
            "0              2     9  \n",
            "1              2     8  \n",
            "2              2     9  \n",
            "3              2     9  \n",
            "4              2     7  \n",
            "...          ...   ...  \n",
            "4443           9     8  \n",
            "4444           9     9  \n",
            "4445           9     7  \n",
            "4446           9     4  \n",
            "4447          12     7  \n",
            "\n",
            "[4448 rows x 6 columns]\n"
          ]
        }
      ]
    },
    {
      "cell_type": "code",
      "source": [
        "# prompt: how to remove outlier for released and replacing it with its median\n",
        "\n",
        "# Calculate the median of 'Released'\n",
        "median_released = df['Released'].median()\n",
        "\n",
        "# Identify outliers in 'Released' using IQR\n",
        "Q1 = df['Released'].quantile(0.25)\n",
        "Q3 = df['Released'].quantile(0.75)\n",
        "IQR = Q3 - Q1\n",
        "lower_bound = Q1 - 1.5 * IQR\n",
        "upper_bound = Q3 + 1.5 * IQR\n",
        "\n",
        "# Replace outliers with the median\n",
        "df.loc[(df['Released'] < lower_bound) | (df['Released'] > upper_bound), 'Released'] = median_released\n"
      ],
      "metadata": {
        "id": "uIXMyjxGW31j"
      },
      "execution_count": null,
      "outputs": []
    },
    {
      "cell_type": "code",
      "source": [
        "# Create boxplots for 'Released' and 'IMDb'\n",
        "for column in ['Released', 'IMDb']:\n",
        "    plt.figure(figsize=(8, 6))  # Adjust figure size as needed\n",
        "    sns.boxplot(x=df[column])\n",
        "    plt.title(f'Boxplot of {column}')\n",
        "    plt.show()"
      ],
      "metadata": {
        "colab": {
          "base_uri": "https://localhost:8080/",
          "height": 1000
        },
        "id": "ooiiZCdFXE-p",
        "outputId": "7045233f-4551-4735-e581-6d837604834e"
      },
      "execution_count": null,
      "outputs": [
        {
          "output_type": "display_data",
          "data": {
            "text/plain": [
              "<Figure size 800x600 with 1 Axes>"
            ],
            "image/png": "[encoded data removed]"
          },
          "metadata": {}
        },
        {
          "output_type": "display_data",
          "data": {
            "text/plain": [
              "<Figure size 800x600 with 1 Axes>"
            ],
            "image/png": "[encoded data removed]"
          },
          "metadata": {}
        }
      ]
    },
    {
      "cell_type": "markdown",
      "source": [
        "# 2.1 Normalize Numerical Features"
      ],
      "metadata": {
        "id": "YrRVyylTLgKx"
      }
    },
    {
      "cell_type": "code",
      "source": [
        "# Select numerical features for normalization\n",
        "numerical_features = ['Released', 'IMDb']  # Replace with your actual numerical feature names\n",
        "\n",
        "# Create a MinMaxScaler object\n",
        "scaler = MinMaxScaler()\n",
        "\n",
        "# Apply Min-Max scaling to the selected features\n",
        "df[numerical_features] = scaler.fit_transform(df[numerical_features])\n",
        "\n",
        "# Print the DataFrame to verify the changes (optional)\n",
        "print(df)"
      ],
      "metadata": {
        "colab": {
          "base_uri": "https://localhost:8080/"
        },
        "id": "8XSo6g_ZRDU2",
        "outputId": "b203b837-66e3-442d-876e-aacc14a548a7"
      },
      "execution_count": null,
      "outputs": [
        {
          "output_type": "stream",
          "name": "stdout",
          "text": [
            "      ï»¿User_ID                                Title Name Language  Released  \\\n",
            "0              2      A Shaun the Sheep Movie: Farmageddon  English  0.666667   \n",
            "1             13                           Black Hawk Down  English  0.666667   \n",
            "2             20                                    Canvas  English  0.666667   \n",
            "3             12  Captain Underpants: The First Epic Movie  English  0.416667   \n",
            "4             13                            Ella Enchanted  English  0.666667   \n",
            "...          ...                                       ...      ...       ...   \n",
            "4443          17                           Mae Martin: SAP  English  0.916667   \n",
            "4444          15       Michela Giraud: The Truth, I Swear!  Italian  0.833333   \n",
            "4445           9                              The Disciple  Marathi  0.666667   \n",
            "4446          23                             The Privilege   German  0.833333   \n",
            "4447          12               Barbie & the Diamond Castle  English  0.666667   \n",
            "\n",
            "      Age_Rating      IMDb  \n",
            "0              2  1.000000  \n",
            "1              2  0.857143  \n",
            "2              2  1.000000  \n",
            "3              2  1.000000  \n",
            "4              2  0.714286  \n",
            "...          ...       ...  \n",
            "4443           9  0.857143  \n",
            "4444           9  1.000000  \n",
            "4445           9  0.714286  \n",
            "4446           9  0.285714  \n",
            "4447          12  0.714286  \n",
            "\n",
            "[4448 rows x 6 columns]\n"
          ]
        }
      ]
    },
    {
      "cell_type": "code",
      "source": [
        "# Select numerical features for normalization (e.g., 'Released', 'IMDb')\n",
        "numerical_features = ['Released', 'IMDb'] # Defines the numerical features to be normalized"
      ],
      "metadata": {
        "id": "Hbic7rZ3LZQ-"
      },
      "execution_count": null,
      "outputs": []
    },
    {
      "cell_type": "code",
      "source": [
        "# Apply Min-Max scaling\n",
        "scaler = MinMaxScaler() # Creates a MinMaxScaler object\n",
        "df[numerical_features] = scaler.fit_transform(df[numerical_features]) # Applies Min-Max scaling to the selected features"
      ],
      "metadata": {
        "id": "zSJa65xuLcvJ"
      },
      "execution_count": null,
      "outputs": []
    },
    {
      "cell_type": "code",
      "source": [
        "# Print after normalization\n",
        "print(\"\\nDataFrame after numerical feature normalization:\") # Prints a header\n",
        "print(df) # Prints the DataFrame after normalization"
      ],
      "metadata": {
        "colab": {
          "base_uri": "https://localhost:8080/"
        },
        "id": "RMTbsJgpLm3J",
        "outputId": "839daa3f-10ca-4616-c61a-d0d0b450792c"
      },
      "execution_count": null,
      "outputs": [
        {
          "output_type": "stream",
          "name": "stdout",
          "text": [
            "\n",
            "DataFrame after numerical feature normalization:\n",
            "      ï»¿User_ID                                Title Name Language  Released  \\\n",
            "0              2      A Shaun the Sheep Movie: Farmageddon  English  0.666667   \n",
            "1             13                           Black Hawk Down  English  0.666667   \n",
            "2             20                                    Canvas  English  0.666667   \n",
            "3             12  Captain Underpants: The First Epic Movie  English  0.416667   \n",
            "4             13                            Ella Enchanted  English  0.666667   \n",
            "...          ...                                       ...      ...       ...   \n",
            "4443          17                           Mae Martin: SAP  English  0.916667   \n",
            "4444          15       Michela Giraud: The Truth, I Swear!  Italian  0.833333   \n",
            "4445           9                              The Disciple  Marathi  0.666667   \n",
            "4446          23                             The Privilege   German  0.833333   \n",
            "4447          12               Barbie & the Diamond Castle  English  0.666667   \n",
            "\n",
            "      Age_Rating      IMDb  \n",
            "0              2  1.000000  \n",
            "1              2  0.857143  \n",
            "2              2  1.000000  \n",
            "3              2  1.000000  \n",
            "4              2  0.714286  \n",
            "...          ...       ...  \n",
            "4443           9  0.857143  \n",
            "4444           9  1.000000  \n",
            "4445           9  0.714286  \n",
            "4446           9  0.285714  \n",
            "4447          12  0.714286  \n",
            "\n",
            "[4448 rows x 6 columns]\n"
          ]
        }
      ]
    },
    {
      "cell_type": "code",
      "source": [
        "print(df)"
      ],
      "metadata": {
        "colab": {
          "base_uri": "https://localhost:8080/"
        },
        "id": "zo1Pknp0Lppq",
        "outputId": "7453f16e-1dcc-4517-99db-1e23def11485"
      },
      "execution_count": null,
      "outputs": [
        {
          "output_type": "stream",
          "name": "stdout",
          "text": [
            "      ï»¿User_ID                                Title Name Language  Released  \\\n",
            "0              2      A Shaun the Sheep Movie: Farmageddon  English  0.666667   \n",
            "1             13                           Black Hawk Down  English  0.666667   \n",
            "2             20                                    Canvas  English  0.666667   \n",
            "3             12  Captain Underpants: The First Epic Movie  English  0.416667   \n",
            "4             13                            Ella Enchanted  English  0.666667   \n",
            "...          ...                                       ...      ...       ...   \n",
            "4443          17                           Mae Martin: SAP  English  0.916667   \n",
            "4444          15       Michela Giraud: The Truth, I Swear!  Italian  0.833333   \n",
            "4445           9                              The Disciple  Marathi  0.666667   \n",
            "4446          23                             The Privilege   German  0.833333   \n",
            "4447          12               Barbie & the Diamond Castle  English  0.666667   \n",
            "\n",
            "      Age_Rating      IMDb  \n",
            "0              2  1.000000  \n",
            "1              2  0.857143  \n",
            "2              2  1.000000  \n",
            "3              2  1.000000  \n",
            "4              2  0.714286  \n",
            "...          ...       ...  \n",
            "4443           9  0.857143  \n",
            "4444           9  1.000000  \n",
            "4445           9  0.714286  \n",
            "4446           9  0.285714  \n",
            "4447          12  0.714286  \n",
            "\n",
            "[4448 rows x 6 columns]\n"
          ]
        }
      ]
    },
    {
      "cell_type": "code",
      "source": [],
      "metadata": {
        "id": "iE490R6HXNb-"
      },
      "execution_count": null,
      "outputs": []
    }
  ]
}